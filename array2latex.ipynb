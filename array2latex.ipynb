{
 "cells": [
  {
   "cell_type": "markdown",
   "metadata": {},
   "source": [
    "# Converting an Array to a LaTeX Table\n",
    "\n",
    "This notebook builds a module that will convert an array into a string of characters which you can cut and paste into a LaTeX editor and it will give you a table.\n",
    "\n",
    "## Install"
   ]
  },
  {
   "cell_type": "code",
   "execution_count": 1,
   "metadata": {},
   "outputs": [
    {
     "data": {
      "text/plain": [
       "4-element Array{String,1}:\n",
       " \"@\"                              \n",
       " \"@v#.#\"                          \n",
       " \"@stdlib\"                        \n",
       " \"C:/Users/arieb/Documents/Julia/\""
      ]
     },
     "execution_count": 1,
     "metadata": {},
     "output_type": "execute_result"
    }
   ],
   "source": [
    "#add the directory where the module is to the path (if needed)\n",
    "push!(LOAD_PATH,\"C:/Users/arieb/Documents/Julia/\")"
   ]
  },
  {
   "cell_type": "code",
   "execution_count": 2,
   "metadata": {},
   "outputs": [],
   "source": [
    "#bring the module\n",
    "using arr2tex"
   ]
  },
  {
   "cell_type": "markdown",
   "metadata": {},
   "source": [
    "## define the inputs"
   ]
  },
  {
   "cell_type": "code",
   "execution_count": 3,
   "metadata": {},
   "outputs": [
    {
     "data": {
      "text/plain": [
       "2×3 Array{Float64,2}:\n",
       " 1.02    0.428571  -1.1 \n",
       " 4.044  -1.0        8.25"
      ]
     },
     "execution_count": 3,
     "metadata": {},
     "output_type": "execute_result"
    }
   ],
   "source": [
    "#matrix of reals\n",
    "A=[ 1.02 3/7 -1.1; 4.044 -1.0 33/4]"
   ]
  },
  {
   "cell_type": "code",
   "execution_count": 4,
   "metadata": {},
   "outputs": [
    {
     "data": {
      "text/plain": [
       "1×4 Array{Union{Missing, String},2}:\n",
       " missing  \"\\$\\\\alpha\\$\"  \"\\$\\\\beta\\$\"  \"\\$\\\\mathcal{Y}\\$\""
      ]
     },
     "execution_count": 4,
     "metadata": {},
     "output_type": "execute_result"
    }
   ],
   "source": [
    "#the top row includes the upper left corner\n",
    "topRow=[missing raw\"$\\alpha$\" raw\"$\\beta$\" raw\"$\\mathcal{Y}$\" ]"
   ]
  },
  {
   "cell_type": "code",
   "execution_count": 5,
   "metadata": {},
   "outputs": [
    {
     "data": {
      "text/plain": [
       "1×2 Array{String,2}:\n",
       " \"\\$X_A\\$\"  \"\\$X_B\\$\""
      ]
     },
     "execution_count": 5,
     "metadata": {},
     "output_type": "execute_result"
    }
   ],
   "source": [
    "#left column \n",
    "leftCol=[raw\"$X_A$\" raw\"$X_B$\"]"
   ]
  },
  {
   "cell_type": "markdown",
   "metadata": {},
   "source": [
    "## call the function"
   ]
  },
  {
   "cell_type": "code",
   "execution_count": 6,
   "metadata": {},
   "outputs": [
    {
     "name": "stdout",
     "output_type": "stream",
     "text": [
      "\\begin{table}\n",
      "  \\begin{center}\n",
      "    \\caption{Your caption here.}\n",
      "    \\label{tab:table1}\n",
      "    \\begin{tabular}{c|c|c|c}\n",
      "       & $\\alpha$ & $\\beta$ & $\\mathcal{Y}$ \\\\ \n",
      "     \\hline\n",
      "    $X_A$ & 1.02 & 0.42857142857142855 & -1.1 \\\\ \n",
      "    $X_B$ & 4.044 & -1.0 & 8.25 \\\\ \n",
      "     \\hline\n",
      "    \\end{tabular}\n",
      "  \\end{center}\n",
      "\\end{table}\n"
     ]
    }
   ],
   "source": [
    "#calling the function\n",
    "array2latex(A,topRow,leftCol)"
   ]
  },
  {
   "cell_type": "markdown",
   "metadata": {},
   "source": [
    "**Note:** Once the basic structure of the table is created, further edits can be made in your ``LaTeX`` editor."
   ]
  },
  {
   "cell_type": "code",
   "execution_count": null,
   "metadata": {},
   "outputs": [],
   "source": []
  }
 ],
 "metadata": {
  "kernelspec": {
   "display_name": "Julia 1.0.3",
   "language": "julia",
   "name": "julia-1.0"
  },
  "language_info": {
   "file_extension": ".jl",
   "mimetype": "application/julia",
   "name": "julia",
   "version": "1.0.3"
  }
 },
 "nbformat": 4,
 "nbformat_minor": 2
}
